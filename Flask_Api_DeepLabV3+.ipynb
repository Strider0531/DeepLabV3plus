{
 "cells": [
  {
   "cell_type": "code",
   "execution_count": null,
   "metadata": {
    "colab": {
     "base_uri": "https://localhost:8080/"
    },
    "executionInfo": {
     "elapsed": 1750,
     "status": "ok",
     "timestamp": 1649329427529,
     "user": {
      "displayName": "Yaroslav Tyschenko",
      "userId": "14487952742839689172"
     },
     "user_tz": -180
    },
    "id": "e9BE_gUSShWb",
    "outputId": "25902693-4078-45ac-a9d2-0872431735b1"
   },
   "outputs": [],
   "source": [
    "#For Colab\n",
    "\n",
    "from google.colab import drive\n",
    "drive.mount('/content/gdrive')\n",
    "\n",
    "%cd gdrive/MyDrive/CV_3\n",
    "!ls"
   ]
  },
  {
   "cell_type": "code",
   "execution_count": null,
   "metadata": {
    "colab": {
     "base_uri": "https://localhost:8080/"
    },
    "executionInfo": {
     "elapsed": 3908,
     "status": "ok",
     "timestamp": 1649329435068,
     "user": {
      "displayName": "Yaroslav Tyschenko",
      "userId": "14487952742839689172"
     },
     "user_tz": -180
    },
    "id": "zqbO__J7PUsn",
    "outputId": "11d488f8-6bb7-476e-8c5c-8d24cd9f2ac9"
   },
   "outputs": [],
   "source": [
    "!pip install -r requirements.txt"
   ]
  },
  {
   "cell_type": "code",
   "execution_count": null,
   "metadata": {
    "executionInfo": {
     "elapsed": 3289,
     "status": "ok",
     "timestamp": 1649329521509,
     "user": {
      "displayName": "Yaroslav Tyschenko",
      "userId": "14487952742839689172"
     },
     "user_tz": -180
    },
    "id": "bRdgfWl_P9IO"
   },
   "outputs": [],
   "source": [
    "import flask\n",
    "from flask import Flask, render_template, request\n",
    "from flask_ngrok import run_with_ngrok\n",
    "import os\n",
    "import tensorflow as tf\n",
    "from tensorflow.keras.utils import CustomObjectScope\n",
    "import cv2\n",
    "import numpy as np\n",
    "\n",
    "from metrics import dice_loss, dice_coef, iou, dice_loss_m, dice_coef_m"
   ]
  },
  {
   "cell_type": "code",
   "execution_count": null,
   "metadata": {
    "colab": {
     "base_uri": "https://localhost:8080/"
    },
    "executionInfo": {
     "elapsed": 248,
     "status": "ok",
     "timestamp": 1649329514205,
     "user": {
      "displayName": "Yaroslav Tyschenko",
      "userId": "14487952742839689172"
     },
     "user_tz": -180
    },
    "id": "cx-AIkJQQbaq",
    "outputId": "a5b2996f-638d-4cf9-e20d-59e4737ca009"
   },
   "outputs": [],
   "source": [
    "# put your token\n",
    "!ngrok authtoken 26LPZYNETb2G2mIzWhe9ddHXkYv_6uvhfDYAfqsztiSy9JkZQ"
   ]
  },
  {
   "cell_type": "code",
   "execution_count": null,
   "metadata": {
    "executionInfo": {
     "elapsed": 3690,
     "status": "ok",
     "timestamp": 1649329527168,
     "user": {
      "displayName": "Yaroslav Tyschenko",
      "userId": "14487952742839689172"
     },
     "user_tz": -180
    },
    "id": "hHbJQdjIsf6m"
   },
   "outputs": [],
   "source": [
    " # DeepLabV3 model opening\n",
    "with CustomObjectScope({'iou': iou, 'dice_coef_m': dice_coef_m, 'dice_loss_m': dice_loss_m}):\n",
    "    model = tf.keras.models.load_model(\"files/model_smooth=0.5.h5\")"
   ]
  },
  {
   "cell_type": "code",
   "execution_count": null,
   "metadata": {
    "executionInfo": {
     "elapsed": 258,
     "status": "ok",
     "timestamp": 1649329533135,
     "user": {
      "displayName": "Yaroslav Tyschenko",
      "userId": "14487952742839689172"
     },
     "user_tz": -180
    },
    "id": "wkd2UaKdCiQD"
   },
   "outputs": [],
   "source": [
    "# Defining prediction and saving function for app\n",
    "def flask_predict(path):\n",
    "  image = cv2.imread(path, cv2.IMREAD_COLOR)\n",
    "  h, w, _ = image.shape\n",
    "  x = cv2.resize(image, (512, 512))\n",
    "  x = x/255.0\n",
    "  x = x.astype(np.float32)\n",
    "  x = np.expand_dims(x, axis=0)\n",
    "\n",
    "  \"\"\" Prediction \"\"\"\n",
    "  y = model.predict(x)[0]\n",
    "  y = cv2.resize(y, (w, h))\n",
    "  y = np.expand_dims(y, axis=-1)\n",
    "\n",
    "  \"\"\" Save the image \"\"\"\n",
    "  masked_image = image * y\n",
    "  line = np.ones((h, 10, 3)) * 128\n",
    "  cat_images = np.concatenate([image, line, masked_image], axis=1)\n",
    "  cv2.imwrite(f\"static/images/result.png\", cat_images)"
   ]
  },
  {
   "cell_type": "code",
   "execution_count": null,
   "metadata": {
    "executionInfo": {
     "elapsed": 283,
     "status": "ok",
     "timestamp": 1649329539470,
     "user": {
      "displayName": "Yaroslav Tyschenko",
      "userId": "14487952742839689172"
     },
     "user_tz": -180
    },
    "id": "k6ahX5-SQUWe"
   },
   "outputs": [],
   "source": [
    "#Defining app\n",
    "image_folder = os.path.join('static','images/')\n",
    "app = Flask(__name__)\n",
    "run_with_ngrok(app) \n",
    "app.config[\"UPLOAD_FOLDER\"] = image_folder\n",
    "\n",
    "@app.route('/', methods=['GET'])\n",
    "def home():\n",
    "  return render_template('index.html')\n",
    "\n",
    "@app.route('/', methods=['POST'])\n",
    "def predict():\n",
    "\n",
    "  imagefile = request.files['imagefile']\n",
    "  image_path = image_folder + imagefile.filename\n",
    "\n",
    "  # image will be saved in static/images/\n",
    "  imagefile.save(image_path)\n",
    "\n",
    "  pic = os.path.join('static/images', imagefile.filename)\n",
    "  flask_predict(pic)\n",
    "  return render_template('index.html', user_image=\"static/images/result.png\", prediction_text='Result image and mask')"
   ]
  },
  {
   "cell_type": "code",
   "execution_count": null,
   "metadata": {
    "colab": {
     "base_uri": "https://localhost:8080/"
    },
    "executionInfo": {
     "elapsed": 27632,
     "status": "ok",
     "timestamp": 1649329571162,
     "user": {
      "displayName": "Yaroslav Tyschenko",
      "userId": "14487952742839689172"
     },
     "user_tz": -180
    },
    "id": "Bx_2wVLXQtNs",
    "outputId": "7e4621c4-524e-4a56-f8ea-c9c2c0447ada"
   },
   "outputs": [],
   "source": [
    "# Run app and click on http://****.ngrok.io \n",
    "if __name__=='__main__':\n",
    "  app.run()"
   ]
  }
 ],
 "metadata": {
  "colab": {
   "collapsed_sections": [],
   "name": "Flask_Api_DeepLabV3+.ipynb",
   "provenance": []
  },
  "kernelspec": {
   "display_name": "Python [conda env:py36]",
   "language": "python",
   "name": "conda-env-py36-py"
  },
  "language_info": {
   "codemirror_mode": {
    "name": "ipython",
    "version": 3
   },
   "file_extension": ".py",
   "mimetype": "text/x-python",
   "name": "python",
   "nbconvert_exporter": "python",
   "pygments_lexer": "ipython3",
   "version": "3.6.13"
  }
 },
 "nbformat": 4,
 "nbformat_minor": 1
}
