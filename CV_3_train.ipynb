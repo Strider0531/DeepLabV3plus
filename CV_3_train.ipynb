{
 "cells": [
  {
   "cell_type": "markdown",
   "metadata": {
    "id": "JjWsQ72MMKL8"
   },
   "source": [
    "Data preparation"
   ]
  },
  {
   "cell_type": "code",
   "execution_count": null,
   "metadata": {
    "colab": {
     "base_uri": "https://localhost:8080/"
    },
    "executionInfo": {
     "elapsed": 30540,
     "status": "ok",
     "timestamp": 1649190828705,
     "user": {
      "displayName": "Yaroslav Tyschenko",
      "userId": "14487952742839689172"
     },
     "user_tz": -180
    },
    "id": "TjMwgRy7MQ68",
    "outputId": "50fa2e0b-df53-46de-c2d8-2f5552ad3f1f"
   },
   "outputs": [],
   "source": [
    "#For Colab\n",
    "\n",
    "from google.colab import drive\n",
    "drive.mount('/content/gdrive')\n",
    "\n",
    "%cd gdrive/MyDrive/CV_3\n",
    "!ls"
   ]
  },
  {
   "cell_type": "code",
   "execution_count": null,
   "metadata": {
    "id": "OKTQjYwYzS6P"
   },
   "outputs": [],
   "source": [
    "!pip install -r requirements.txt"
   ]
  },
  {
   "cell_type": "code",
   "execution_count": null,
   "metadata": {
    "id": "Kob0wvy1LwIF"
   },
   "outputs": [],
   "source": [
    "from data import *\n",
    "from train import *\n",
    "from metrics import dice_loss, dice_coef, iou, dice_loss_m, dice_coef_m"
   ]
  },
  {
   "cell_type": "code",
   "execution_count": null,
   "metadata": {
    "colab": {
     "base_uri": "https://localhost:8080/"
    },
    "executionInfo": {
     "elapsed": 1541197,
     "status": "ok",
     "timestamp": 1649192444110,
     "user": {
      "displayName": "Yaroslav Tyschenko",
      "userId": "14487952742839689172"
     },
     "user_tz": -180
    },
    "id": "Wg0gZDqDOSJz",
    "outputId": "285c1350-9664-427f-bd6d-f89356525b9f"
   },
   "outputs": [],
   "source": [
    "# Prepare dataset for model\n",
    "\n",
    "np.random.seed(42)\n",
    "\n",
    "\"\"\" Load the dataset \"\"\"\n",
    "data_path = \"/content/gdrive/MyDrive/CV_3/dataset\"\n",
    "(train_x, train_y), (test_x, test_y) = load_data(data_path, split = 0.1)\n",
    "\n",
    "print(f\"Train:\\t {len(train_x)} - {len(train_y)}\")\n",
    "print(f\"Test:\\t {len(test_x)} - {len(test_y)}\")\n",
    "\n",
    "\"\"\" Create directories to save the augmented data \"\"\"\n",
    "create_dir(\"new_data/train/image/\")\n",
    "create_dir(\"new_data/train/mask/\")\n",
    "create_dir(\"new_data/test/image/\")\n",
    "create_dir(\"new_data/test/mask/\")\n",
    "\n",
    "\"\"\" Data augmentation \"\"\"\n",
    "augment_data(train_x, train_y, \"new_data/train/\", augment=False)\n",
    "augment_data(test_x, test_y, \"new_data/test/\", augment=False)"
   ]
  },
  {
   "cell_type": "markdown",
   "metadata": {
    "id": "LLGQM5Zcm9A4"
   },
   "source": [
    "Training"
   ]
  },
  {
   "cell_type": "code",
   "execution_count": null,
   "metadata": {
    "colab": {
     "base_uri": "https://localhost:8080/",
     "height": 834
    },
    "executionInfo": {
     "elapsed": 13508286,
     "status": "error",
     "timestamp": 1649206112424,
     "user": {
      "displayName": "Yaroslav Tyschenko",
      "userId": "14487952742839689172"
     },
     "user_tz": -180
    },
    "id": "Z4NOkr_Vo5wD",
    "outputId": "6e09c09c-e2ec-4e80-cbe3-03256f2075cd"
   },
   "outputs": [],
   "source": [
    "# Set dataset_path and start training\n",
    "\n",
    "\"\"\" Seeding \"\"\"\n",
    "np.random.seed(42)\n",
    "tf.random.set_seed(42)\n",
    "\n",
    "\"\"\" Directory for storing files \"\"\"\n",
    "create_dir(\"files\")\n",
    "\n",
    "\"\"\" Hyperparameters \"\"\"\n",
    "batch_size = 4\n",
    "lr = 1e-4\n",
    "num_epochs = 100\n",
    "model_path = os.path.join(\"files\", \"model.h5\")\n",
    "csv_path = os.path.join(\"files\", \"data.csv\")\n",
    "\n",
    "\"\"\" Dataset \"\"\"\n",
    "dataset_path = \"/content/gdrive/MyDrive/CV_3/new_data\"\n",
    "train_path = os.path.join(dataset_path, \"train\")\n",
    "valid_path = os.path.join(dataset_path, \"test\")\n",
    "\n",
    "train_x, train_y = load_data(train_path)\n",
    "train_x, train_y = shuffling(train_x, train_y)\n",
    "valid_x, valid_y = load_data(valid_path)\n",
    "\n",
    "print(f\"Train: {len(train_x)} - {len(train_y)}\")\n",
    "print(f\"Valid: {len(valid_x)} - {len(valid_y)}\")\n",
    "\n",
    "train_dataset = tf_dataset(train_x, train_y, batch=batch_size)\n",
    "valid_dataset = tf_dataset(valid_x, valid_y, batch=batch_size)\n",
    "\n",
    "\"\"\" Model \"\"\"\n",
    "model = deeplabv3_plus((H, W, 3))\n",
    "model.compile(loss=dice_loss_m, optimizer=Adam(lr), metrics=[dice_coef_m, iou, Recall(), Precision()])\n",
    "\n",
    "callbacks = [\n",
    "        ModelCheckpoint(model_path, verbose=1, save_best_only=True),\n",
    "        ReduceLROnPlateau(monitor='val_loss', factor=0.1, patience=2, min_lr=1e-7, verbose=1),\n",
    "        CSVLogger(csv_path),\n",
    "        TensorBoard(),\n",
    "        EarlyStopping(monitor='val_loss', patience=3, restore_best_weights=False),\n",
    "    ]\n",
    "\n",
    "model.fit(\n",
    "        train_dataset,\n",
    "        epochs=num_epochs,\n",
    "        validation_data=valid_dataset,\n",
    "        callbacks=callbacks\n",
    "    )"
   ]
  },
  {
   "cell_type": "markdown",
   "metadata": {
    "id": "zxGijja0CnF3"
   },
   "source": [
    "Predicting"
   ]
  },
  {
   "cell_type": "code",
   "execution_count": null,
   "metadata": {
    "colab": {
     "base_uri": "https://localhost:8080/"
    },
    "executionInfo": {
     "elapsed": 9,
     "status": "ok",
     "timestamp": 1649331658416,
     "user": {
      "displayName": "Yaroslav Tyschenko",
      "userId": "14487952742839689172"
     },
     "user_tz": -180
    },
    "id": "fEhdH36LCpju",
    "outputId": "23ae772d-feac-4003-fa7a-050800446890"
   },
   "outputs": [],
   "source": [
    "# Upload images to test_images/image and start predicting\n",
    "!python predict.py\n",
    "# Results are on test_images/mask folder"
   ]
  }
 ],
 "metadata": {
  "accelerator": "GPU",
  "colab": {
   "authorship_tag": "ABX9TyP5l6rdQpz2rXYwlwbGJuS1",
   "name": "CV_3_train.ipynb",
   "provenance": []
  },
  "kernelspec": {
   "display_name": "Python 3",
   "language": "python",
   "name": "python3"
  },
  "language_info": {
   "codemirror_mode": {
    "name": "ipython",
    "version": 3
   },
   "file_extension": ".py",
   "mimetype": "text/x-python",
   "name": "python",
   "nbconvert_exporter": "python",
   "pygments_lexer": "ipython3",
   "version": "3.6.13"
  }
 },
 "nbformat": 4,
 "nbformat_minor": 1
}
