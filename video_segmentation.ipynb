{
 "cells": [
  {
   "cell_type": "code",
   "execution_count": null,
   "metadata": {
    "colab": {
     "base_uri": "https://localhost:8080/"
    },
    "executionInfo": {
     "elapsed": 29743,
     "status": "ok",
     "timestamp": 1649590550962,
     "user": {
      "displayName": "Yaroslav Tyschenko",
      "userId": "14487952742839689172"
     },
     "user_tz": -180
    },
    "id": "uUvRvT_UwBVF",
    "outputId": "d399f45f-9d61-42ee-b8ff-ff54239dcedb"
   },
   "outputs": [],
   "source": [
    "#For Colab\n",
    "\n",
    "from google.colab import drive\n",
    "drive.mount('/content/gdrive')\n",
    "\n",
    "%cd gdrive/MyDrive/CV_3\n",
    "!ls"
   ]
  },
  {
   "cell_type": "code",
   "execution_count": null,
   "metadata": {
    "executionInfo": {
     "elapsed": 17231,
     "status": "ok",
     "timestamp": 1649590572410,
     "user": {
      "displayName": "Yaroslav Tyschenko",
      "userId": "14487952742839689172"
     },
     "user_tz": -180
    },
    "id": "Ggyk85CZNRUH"
   },
   "outputs": [],
   "source": [
    "from segmentation_from_video import *"
   ]
  },
  {
   "cell_type": "code",
   "execution_count": null,
   "metadata": {
    "colab": {
     "base_uri": "https://localhost:8080/",
     "height": 762
    },
    "executionInfo": {
     "elapsed": 16883,
     "status": "error",
     "timestamp": 1649590591746,
     "user": {
      "displayName": "Yaroslav Tyschenko",
      "userId": "14487952742839689172"
     },
     "user_tz": -180
    },
    "id": "2ZBV_YfvNt4Y",
    "outputId": "c610f081-2bf0-4228-9ac4-4156bb8370a0"
   },
   "outputs": [],
   "source": [
    "%%time\n",
    "\n",
    "# set input video path and output\n",
    "\n",
    "input_video = 'video/video_1.mp4'\n",
    "output_video = 'video/segmented.mp4'\n",
    "\n",
    "segment_video(input_video, output_video)"
   ]
  }
 ],
 "metadata": {
  "accelerator": "GPU",
  "colab": {
   "authorship_tag": "ABX9TyNevzSLfKRHAjroePm0yFtU",
   "collapsed_sections": [],
   "name": "video_segmentation.ipynb",
   "provenance": []
  },
  "kernelspec": {
   "display_name": "Python 3",
   "language": "python",
   "name": "python3"
  },
  "language_info": {
   "codemirror_mode": {
    "name": "ipython",
    "version": 3
   },
   "file_extension": ".py",
   "mimetype": "text/x-python",
   "name": "python",
   "nbconvert_exporter": "python",
   "pygments_lexer": "ipython3",
   "version": "3.6.13"
  }
 },
 "nbformat": 4,
 "nbformat_minor": 1
}
